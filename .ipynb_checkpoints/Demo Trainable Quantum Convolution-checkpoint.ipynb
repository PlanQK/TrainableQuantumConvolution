{
 "cells": [
  {
   "cell_type": "markdown",
   "metadata": {},
   "source": [
    "# Trainable Quantum Convolution\n",
    "\n",
    "**Authors**\n",
    "  * Denny Mattern (denny.mattern@fokus.fraunhofer.de)\n",
    "  * Darya Martyniuk (darya.martyniuk@fokus.fraunhofer.de)\n",
    "  * Fabian Bergmann (fabian.bergmann@fokus.fraunhofer.de)\n",
    "  * Henri Willems (henri.willems@fokus.fraunhofer.de)\n",
    "\n",
    "\n",
    "**Affiliation**\n",
    "\n",
    "Data Analytics Center at Fraunhofer Institute for Open Communication Systems (Fraunhofer FOKUS) [1]. This demo results from our research as part of the PlanQK consortium [2].\n",
    "\n",
    "\n",
    "**Abstract**\n",
    "\n",
    "We implement a trainable version of Quanvolutional Neural Networks [3] using parametrized RandomCircuits. Parameters are optimized using standard gradient descent. Our code is based on the \"Quanvolutional Neural Networks\"-Demo of Andrea Mari [4].\n",
    "\n",
    "We find that due to the randomized circuits training process is challenging and might take for some randomly generated circuits quite long, while other random circuits seem to be more suitable. For more stable results one might want to use hand crafted circuits instead of randomly generated ones. Otherwise one can use static seeds for the random circuit in order to get reproducable results.\n",
    "\n",
    "\n",
    "**Further Research Questions**\n",
    "\n",
    "\n",
    "1. What is the impact of the quantum layer to the result?\n",
    "2. Is our hybrid quantum-classical neural net learning because of the trainable quanvolution or despite the quantum layer? I.e. is the quantum layer learning anything useful which helps the following layer to better classify the digits? Or is the dense layer \"strong enough\" to perform a classification despite the quantum circuit before?\n",
    "3. If the quantum circuit is useful, what kinds of circuit architectures perform best?\n",
    "\n",
    "\n",
    "[1] https://www.fokus.fraunhofer.de and https://www.data-analytics-center.org.\n",
    "\n",
    "[2] https://www.planqk.de.\n",
    "\n",
    "[3] Maxwell Henderson, Samriddhi Shakya, Shashindra Pradhan, Tristan Cook, \"Quanvolutional Neural Networks: Powering Image Recognition with Quantum Circuits\", 2019, arxiv:1904.04767.\n",
    "\n",
    "[4] https://pennylane.ai/qml/demos/tutorial_quanvolution.html."
   ]
  },
  {
   "cell_type": "code",
   "execution_count": 2,
   "metadata": {},
   "outputs": [],
   "source": [
    "import torch\n",
    "from torch import nn\n",
    "\n",
    "import torchvision\n",
    "\n",
    "import pennylane as qml\n",
    "from pennylane import numpy as np\n",
    "from pennylane.templates import RandomLayers\n",
    "\n",
    "from sklearn.metrics import accuracy_score\n",
    "import matplotlib.pyplot as plt"
   ]
  },
  {
   "cell_type": "code",
   "execution_count": 3,
   "metadata": {},
   "outputs": [],
   "source": [
    "class QonvLayer(nn.Module):\n",
    "    def __init__(self, stride=2, device=\"default.qubit\", wires=4, circuit_layers=4,\n",
    "                 n_rotations=8, out_channels=4, seed=None):\n",
    "        super(QonvLayer, self).__init__()\n",
    "        \n",
    "        # init device\n",
    "        self.wires = wires\n",
    "        self.dev = qml.device(device, wires=self.wires)\n",
    "        \n",
    "        self.stride = stride\n",
    "        self.out_channels = min(out_channels, wires)\n",
    "        \n",
    "        if seed is None:\n",
    "            seed = np.random.randint(low=0, high=10e6)\n",
    "            \n",
    "        print(\"Initializing Circuit with random seed\", seed)\n",
    "        \n",
    "        # random circuits\n",
    "        @qml.qnode(device=self.dev, interface=\"torch\")\n",
    "        def circuit(inputs, weights):\n",
    "            n_inputs=4\n",
    "            # Encoding of 4 classical input values\n",
    "            for j in range(n_inputs):\n",
    "                qml.RY(inputs[j], wires=j)\n",
    "            # Random quantum circuit\n",
    "            RandomLayers(weights, wires=list(range(self.wires)), seed=seed)\n",
    "            # Measurement producing 4 classical output values\n",
    "            return [qml.expval(qml.PauliZ(j)) for j in range(self.out_channels)]\n",
    "        \n",
    "        weight_shapes = {\"weights\": [circuit_layers, n_rotations]}\n",
    "        self.circuit = qml.qnn.TorchLayer(circuit, weight_shapes=weight_shapes)\n",
    "        \n",
    "    def draw(self):\n",
    "        print(qml.draw_mpl(self.circuit)(torch.from_numpy(np.zeros(4))))\n",
    "        self.circuit.zero_grad()\n",
    "    \n",
    "    def forward(self, img):\n",
    "        bs, h, w, ch = img.size()\n",
    "        if ch > 1:\n",
    "            img = img.mean(axis=-1).reshape(bs, h, w, 1)\n",
    "                        \n",
    "        kernel_size = 2        \n",
    "        h_out = (h-kernel_size) // self.stride + 1\n",
    "        w_out = (w-kernel_size) // self.stride + 1\n",
    "        \n",
    "        \n",
    "        out = torch.zeros((bs, h_out, w_out, self.out_channels))\n",
    "        \n",
    "        # Loop over the coordinates of the top-left pixel of 2X2 squares\n",
    "        for b in range(bs):\n",
    "            for j in range(0, h_out, self.stride):\n",
    "                for k in range(0, w_out, self.stride):\n",
    "                    # Process a squared 2x2 region of the image with a quantum circuit\n",
    "                    q_results = self.circuit(\n",
    "                        torch.Tensor(\n",
    "                            [\n",
    "                                img[b, j, k, 0],\n",
    "                                img[b, j, k + 1, 0],\n",
    "                                img[b, j + 1, k, 0],\n",
    "                                img[b, j + 1, k + 1, 0],\n",
    "                            ]\n",
    "                        )\n",
    "                    )\n",
    "                    # Assign expectation values to different channels of the output pixel (j/2, k/2)\n",
    "                    for c in range(self.out_channels):\n",
    "                        out[b, j // kernel_size, k // kernel_size, c] = q_results[c]                \n",
    "                 \n",
    "        return out"
   ]
  },
  {
   "cell_type": "code",
   "execution_count": 4,
   "metadata": {},
   "outputs": [
    {
     "name": "stdout",
     "output_type": "stream",
     "text": [
      "Initializing Circuit with random seed 5159331\n",
      "(<Figure size 500x500 with 1 Axes>, <Axes: >)\n"
     ]
    },
    {
     "data": {
      "text/plain": [
       "torch.Size([1, 14, 14, 4])"
      ]
     },
     "execution_count": 4,
     "metadata": {},
     "output_type": "execute_result"
    },
    {
     "data": {
      "image/png": "[encoded data removed]",
      "text/plain": [
       "<Figure size 500x500 with 1 Axes>"
      ]
     },
     "metadata": {},
     "output_type": "display_data"
    }
   ],
   "source": [
    "# Test QonvLayer\n",
    "\n",
    "qonv = QonvLayer(circuit_layers=1, n_rotations=8, out_channels=4, stride=2)\n",
    "qonv.draw()\n",
    "x = torch.rand(size=(1,28,28,1))\n",
    "\n",
    "# Check OonvLayer Output shape\n",
    "qonv(x).shape"
   ]
  },
  {
   "cell_type": "code",
   "execution_count": 5,
   "metadata": {},
   "outputs": [],
   "source": [
    "def transform(x):\n",
    "    x = np.array(x)\n",
    "    x = x/255.0\n",
    "    \n",
    "    return torch.from_numpy(x).float()"
   ]
  },
  {
   "cell_type": "markdown",
   "metadata": {},
   "source": [
    "# Model training"
   ]
  },
  {
   "cell_type": "code",
   "execution_count": 6,
   "metadata": {},
   "outputs": [],
   "source": [
    "def train(model, train_loader, epochs=50):\n",
    "    print(\"Starting Training for {} epochs\".format(epochs))\n",
    "\n",
    "    model.train()\n",
    "\n",
    "    optimizer = torch.optim.Adam(params=model.parameters(), lr=0.01)\n",
    "    criterion = torch.nn.CrossEntropyLoss()\n",
    "    \n",
    "    losses = np.array([])\n",
    "    accs = np.array([])\n",
    "\n",
    "    for epoch in range(epochs):\n",
    "        for i, (x, y) in enumerate(train_loader):\n",
    "\n",
    "            # prepare inputs and labels\n",
    "            x = x.view(-1, 28, 28, 1)\n",
    "            y = y.long()\n",
    "\n",
    "            # reset optimizer\n",
    "            optimizer.zero_grad()\n",
    "\n",
    "            # engage\n",
    "            y_pred = model(x)\n",
    "\n",
    "            # error, gradients and optimization\n",
    "            loss = criterion(y_pred, y)  \n",
    "            loss.backward()\n",
    "            optimizer.step()\n",
    "\n",
    "            # output\n",
    "            acc = accuracy_score(y, y_pred.argmax(-1).numpy())\n",
    "            \n",
    "            accs = np.append(accs, acc)\n",
    "            losses = np.append(losses, loss.item())\n",
    "\n",
    "            print(\"Epoch:\", epoch, \n",
    "                  \"\\tStep:\", i, \n",
    "                  \"\\tAcc:\", round(acc, 3), \n",
    "                  \"\\tLoss:\", round(loss.item(),3),\n",
    "                  \"\\tMean Loss:\", round(float(losses[-30:].mean()), 3),\n",
    "                  \"\\tMean Acc:\", round(float(accs[-30:].mean()), 3)\n",
    "                 )\n",
    "            print(\"\\nGradients Layer 0:\")\n",
    "            print(model[0].circuit.weights.grad)\n",
    "\n",
    "            if i % 5 == 0:\n",
    "                model[0].draw()\n",
    "            \n",
    "            print(\"---------------------------------------\\n\")\n",
    "            \n",
    "            \n",
    "    return model, losses, accs"
   ]
  },
  {
   "cell_type": "code",
   "execution_count": 7,
   "metadata": {
    "scrolled": false
   },
   "outputs": [
    {
     "name": "stdout",
     "output_type": "stream",
     "text": [
      "Downloading http://yann.lecun.com/exdb/mnist/train-images-idx3-ubyte.gz\n",
      "Downloading http://yann.lecun.com/exdb/mnist/train-images-idx3-ubyte.gz to ./mnist\\MNIST\\raw\\train-images-idx3-ubyte.gz\n"
     ]
    },
    {
     "name": "stderr",
     "output_type": "stream",
     "text": [
      "100%|███████████████████████████████████████████████████████████████████| 9912422/9912422 [00:05<00:00, 1680626.42it/s]\n"
     ]
    },
    {
     "name": "stdout",
     "output_type": "stream",
     "text": [
      "Extracting ./mnist\\MNIST\\raw\\train-images-idx3-ubyte.gz to ./mnist\\MNIST\\raw\n",
      "\n",
      "Downloading http://yann.lecun.com/exdb/mnist/train-labels-idx1-ubyte.gz\n",
      "Downloading http://yann.lecun.com/exdb/mnist/train-labels-idx1-ubyte.gz to ./mnist\\MNIST\\raw\\train-labels-idx1-ubyte.gz\n"
     ]
    },
    {
     "name": "stderr",
     "output_type": "stream",
     "text": [
      "100%|████████████████████████████████████████████████████████████████████████| 28881/28881 [00:00<00:00, 434212.35it/s]\n"
     ]
    },
    {
     "name": "stdout",
     "output_type": "stream",
     "text": [
      "Extracting ./mnist\\MNIST\\raw\\train-labels-idx1-ubyte.gz to ./mnist\\MNIST\\raw\n",
      "\n",
      "Downloading http://yann.lecun.com/exdb/mnist/t10k-images-idx3-ubyte.gz\n",
      "Downloading http://yann.lecun.com/exdb/mnist/t10k-images-idx3-ubyte.gz to ./mnist\\MNIST\\raw\\t10k-images-idx3-ubyte.gz\n"
     ]
    },
    {
     "name": "stderr",
     "output_type": "stream",
     "text": [
      "100%|████████████████████████████████████████████████████████████████████| 1648877/1648877 [00:01<00:00, 929175.38it/s]\n"
     ]
    },
    {
     "name": "stdout",
     "output_type": "stream",
     "text": [
      "Extracting ./mnist\\MNIST\\raw\\t10k-images-idx3-ubyte.gz to ./mnist\\MNIST\\raw\n",
      "\n",
      "Downloading http://yann.lecun.com/exdb/mnist/t10k-labels-idx1-ubyte.gz\n",
      "Downloading http://yann.lecun.com/exdb/mnist/t10k-labels-idx1-ubyte.gz to ./mnist\\MNIST\\raw\\t10k-labels-idx1-ubyte.gz\n"
     ]
    },
    {
     "name": "stderr",
     "output_type": "stream",
     "text": [
      "100%|██████████████████████████████████████████████████████████████████████████| 4542/4542 [00:00<00:00, 145279.71it/s]\n"
     ]
    },
    {
     "name": "stdout",
     "output_type": "stream",
     "text": [
      "Extracting ./mnist\\MNIST\\raw\\t10k-labels-idx1-ubyte.gz to ./mnist\\MNIST\\raw\n",
      "\n",
      "Initializing Circuit with random seed 9321727\n",
      "Starting Training for 1 epochs\n",
      "Epoch: 0 \tStep: 0 \tAcc: 0.0 \tLoss: 2.349 \tMean Loss: 2.349 \tMean Acc: 0.0\n",
      "\n",
      "Gradients Layer 0:\n"
     ]
    },
    {
     "ename": "AttributeError",
     "evalue": "'QNode' object has no attribute 'weights'",
     "output_type": "error",
     "traceback": [
      "\u001b[1;31m---------------------------------------------------------------------------\u001b[0m",
      "\u001b[1;31mAttributeError\u001b[0m                            Traceback (most recent call last)",
      "Cell \u001b[1;32mIn[7], line 18\u001b[0m\n\u001b[0;32m     11\u001b[0m model \u001b[38;5;241m=\u001b[39m torch\u001b[38;5;241m.\u001b[39mnn\u001b[38;5;241m.\u001b[39mSequential(\n\u001b[0;32m     12\u001b[0m     QonvLayer(stride\u001b[38;5;241m=\u001b[39m\u001b[38;5;241m2\u001b[39m, circuit_layers\u001b[38;5;241m=\u001b[39m\u001b[38;5;241m2\u001b[39m, n_rotations\u001b[38;5;241m=\u001b[39m\u001b[38;5;241m4\u001b[39m, out_channels\u001b[38;5;241m=\u001b[39m\u001b[38;5;241m4\u001b[39m, seed\u001b[38;5;241m=\u001b[39m\u001b[38;5;241m9321727\u001b[39m),\n\u001b[0;32m     13\u001b[0m     torch\u001b[38;5;241m.\u001b[39mnn\u001b[38;5;241m.\u001b[39mFlatten(),\n\u001b[0;32m     14\u001b[0m     torch\u001b[38;5;241m.\u001b[39mnn\u001b[38;5;241m.\u001b[39mLinear(in_features\u001b[38;5;241m=\u001b[39m\u001b[38;5;241m14\u001b[39m\u001b[38;5;241m*\u001b[39m\u001b[38;5;241m14\u001b[39m\u001b[38;5;241m*\u001b[39m\u001b[38;5;241m4\u001b[39m, out_features\u001b[38;5;241m=\u001b[39m\u001b[38;5;241m10\u001b[39m)\n\u001b[0;32m     15\u001b[0m )\n\u001b[0;32m     17\u001b[0m \u001b[38;5;66;03m# start training\u001b[39;00m\n\u001b[1;32m---> 18\u001b[0m model, losses, accs \u001b[38;5;241m=\u001b[39m \u001b[43mtrain\u001b[49m\u001b[43m(\u001b[49m\u001b[43mmodel\u001b[49m\u001b[43m,\u001b[49m\u001b[43m \u001b[49m\u001b[43mtrain_loader\u001b[49m\u001b[43m,\u001b[49m\u001b[43m \u001b[49m\u001b[43mepochs\u001b[49m\u001b[38;5;241;43m=\u001b[39;49m\u001b[38;5;241;43m1\u001b[39;49m\u001b[43m)\u001b[49m\n\u001b[0;32m     21\u001b[0m \u001b[38;5;66;03m# plot losses and accuracies\u001b[39;00m\n\u001b[0;32m     22\u001b[0m fig, (ax1, ax2) \u001b[38;5;241m=\u001b[39m plt\u001b[38;5;241m.\u001b[39msubplots(\u001b[38;5;241m1\u001b[39m,\u001b[38;5;241m2\u001b[39m, figsize\u001b[38;5;241m=\u001b[39m(\u001b[38;5;241m16\u001b[39m, \u001b[38;5;241m4\u001b[39m))\n",
      "Cell \u001b[1;32mIn[6], line 44\u001b[0m, in \u001b[0;36mtrain\u001b[1;34m(model, train_loader, epochs)\u001b[0m\n\u001b[0;32m     36\u001b[0m \u001b[38;5;28mprint\u001b[39m(\u001b[38;5;124m\"\u001b[39m\u001b[38;5;124mEpoch:\u001b[39m\u001b[38;5;124m\"\u001b[39m, epoch, \n\u001b[0;32m     37\u001b[0m       \u001b[38;5;124m\"\u001b[39m\u001b[38;5;130;01m\\t\u001b[39;00m\u001b[38;5;124mStep:\u001b[39m\u001b[38;5;124m\"\u001b[39m, i, \n\u001b[0;32m     38\u001b[0m       \u001b[38;5;124m\"\u001b[39m\u001b[38;5;130;01m\\t\u001b[39;00m\u001b[38;5;124mAcc:\u001b[39m\u001b[38;5;124m\"\u001b[39m, \u001b[38;5;28mround\u001b[39m(acc, \u001b[38;5;241m3\u001b[39m), \n\u001b[1;32m   (...)\u001b[0m\n\u001b[0;32m     41\u001b[0m       \u001b[38;5;124m\"\u001b[39m\u001b[38;5;130;01m\\t\u001b[39;00m\u001b[38;5;124mMean Acc:\u001b[39m\u001b[38;5;124m\"\u001b[39m, \u001b[38;5;28mround\u001b[39m(\u001b[38;5;28mfloat\u001b[39m(accs[\u001b[38;5;241m-\u001b[39m\u001b[38;5;241m30\u001b[39m:]\u001b[38;5;241m.\u001b[39mmean()), \u001b[38;5;241m3\u001b[39m)\n\u001b[0;32m     42\u001b[0m      )\n\u001b[0;32m     43\u001b[0m \u001b[38;5;28mprint\u001b[39m(\u001b[38;5;124m\"\u001b[39m\u001b[38;5;130;01m\\n\u001b[39;00m\u001b[38;5;124mGradients Layer 0:\u001b[39m\u001b[38;5;124m\"\u001b[39m)\n\u001b[1;32m---> 44\u001b[0m \u001b[38;5;28mprint\u001b[39m(\u001b[43mmodel\u001b[49m\u001b[43m[\u001b[49m\u001b[38;5;241;43m0\u001b[39;49m\u001b[43m]\u001b[49m\u001b[38;5;241;43m.\u001b[39;49m\u001b[43mcircuit\u001b[49m\u001b[38;5;241;43m.\u001b[39;49m\u001b[43mweights\u001b[49m\u001b[38;5;241m.\u001b[39mgrad)\n\u001b[0;32m     46\u001b[0m \u001b[38;5;28;01mif\u001b[39;00m i \u001b[38;5;241m%\u001b[39m \u001b[38;5;241m5\u001b[39m \u001b[38;5;241m==\u001b[39m \u001b[38;5;241m0\u001b[39m:\n\u001b[0;32m     47\u001b[0m     model[\u001b[38;5;241m0\u001b[39m]\u001b[38;5;241m.\u001b[39mdraw()\n",
      "File \u001b[1;32m~\\anaconda3\\envs\\pennylane_env\\lib\\site-packages\\pennylane\\qnn\\torch.py:460\u001b[0m, in \u001b[0;36mTorchLayer.__getattr__\u001b[1;34m(self, item)\u001b[0m\n\u001b[0;32m    458\u001b[0m \u001b[38;5;250m\u001b[39m\u001b[38;5;124;03m\"\"\"If the given attribute does not exist in the class, look for it in the wrapped QNode.\"\"\"\u001b[39;00m\n\u001b[0;32m    459\u001b[0m \u001b[38;5;28;01mif\u001b[39;00m \u001b[38;5;28mself\u001b[39m\u001b[38;5;241m.\u001b[39m_initialized:\n\u001b[1;32m--> 460\u001b[0m     \u001b[38;5;28;01mreturn\u001b[39;00m \u001b[38;5;28;43mgetattr\u001b[39;49m\u001b[43m(\u001b[49m\u001b[38;5;28;43mself\u001b[39;49m\u001b[38;5;241;43m.\u001b[39;49m\u001b[43mqnode\u001b[49m\u001b[43m,\u001b[49m\u001b[43m \u001b[49m\u001b[43mitem\u001b[49m\u001b[43m)\u001b[49m\n\u001b[0;32m    462\u001b[0m \u001b[38;5;28;01mtry\u001b[39;00m:\n\u001b[0;32m    463\u001b[0m     \u001b[38;5;28;01mreturn\u001b[39;00m \u001b[38;5;28mself\u001b[39m\u001b[38;5;241m.\u001b[39m\u001b[38;5;18m__dict__\u001b[39m[item]\n",
      "\u001b[1;31mAttributeError\u001b[0m: 'QNode' object has no attribute 'weights'"
     ]
    }
   ],
   "source": [
    "if __name__ == \"__main__\":\n",
    "    \n",
    "    \n",
    "    # prepare dataset\n",
    "    train_set = torchvision.datasets.MNIST(root='./mnist', train=True, download=True, transform=transform)\n",
    "    test_set = torchvision.datasets.MNIST(root='./mnist', train=False, download=True, transform=transform)\n",
    "\n",
    "    train_loader = torch.utils.data.DataLoader(dataset=train_set, batch_size=4)\n",
    "    \n",
    "    # build the model\n",
    "    model = torch.nn.Sequential(\n",
    "        QonvLayer(stride=2, circuit_layers=2, n_rotations=4, out_channels=4, seed=9321727),\n",
    "        torch.nn.Flatten(),\n",
    "        torch.nn.Linear(in_features=14*14*4, out_features=10)\n",
    "    )\n",
    "    \n",
    "    # start training\n",
    "    model, losses, accs = train(model, train_loader, epochs=1)\n",
    "    \n",
    "    \n",
    "    # plot losses and accuracies\n",
    "    fig, (ax1, ax2) = plt.subplots(1,2, figsize=(16, 4))\n",
    "    ax1.plot(losses)\n",
    "    ax1.set_title(\"Loss\")\n",
    "    ax1.set_xlabel(\"Steps\")\n",
    "    ax1.set_ylabel(\"Loss\")\n",
    "\n",
    "    ax2.plot(accs)\n",
    "    ax2.set_title(\"Accuracy\")\n",
    "    ax2.set_xlabel(\"Steps\")\n",
    "    ax2.set_ylabel(\"Accuracy\")"
   ]
  },
  {
   "cell_type": "code",
   "execution_count": null,
   "metadata": {},
   "outputs": [],
   "source": []
  },
  {
   "cell_type": "code",
   "execution_count": null,
   "metadata": {},
   "outputs": [],
   "source": []
  }
 ],
 "metadata": {
  "kernelspec": {
   "display_name": "Python 3 (ipykernel)",
   "language": "python",
   "name": "python3"
  },
  "language_info": {
   "codemirror_mode": {
    "name": "ipython",
    "version": 3
   },
   "file_extension": ".py",
   "mimetype": "text/x-python",
   "name": "python",
   "nbconvert_exporter": "python",
   "pygments_lexer": "ipython3",
   "version": "3.8.16"
  }
 },
 "nbformat": 4,
 "nbformat_minor": 4
}
